{
 "cells": [
  {
   "cell_type": "code",
   "execution_count": 1,
   "id": "c575341b",
   "metadata": {},
   "outputs": [
    {
     "data": {
      "application/javascript": [
       "IPython.OutputArea.prototype._should_scroll = function(lines) {\n",
       "    return false;\n",
       "}\n",
       "document.title='aiidalab-qe-vibroscopy detached app'\n"
      ],
      "text/plain": [
       "<IPython.core.display.Javascript object>"
      ]
     },
     "metadata": {},
     "output_type": "display_data"
    }
   ],
   "source": [
    "%%javascript\n",
    "IPython.OutputArea.prototype._should_scroll = function(lines) {\n",
    "    return false;\n",
    "}\n",
    "document.title='aiidalab-qe-vibroscopy detached app'"
   ]
  },
  {
   "cell_type": "code",
   "execution_count": 2,
   "id": "a8549863",
   "metadata": {},
   "outputs": [
    {
     "data": {
      "application/vnd.jupyter.widget-view+json": {
       "model_id": "451e9bed65e14635b3725af244c2fbcd",
       "version_major": 2,
       "version_minor": 0
      },
      "text/plain": []
     },
     "metadata": {},
     "output_type": "display_data"
    },
    {
     "data": {
      "text/html": [
       "\n",
       "<div style=\"background-color: #f7f7f7; border: 2px solid #e0e0e0; padding: 20px; border-radius: 5px;\">\n",
       "    <p style=\"font-size: 16px; font-weight: bold; color: #ff5733;\">Warning:</p>\n",
       "    <p style=\"font-size: 14px;\">The default profile '<span style=\"font-style: italic;\">default</span>' was loaded automatically. This behavior will be removed in the <span style=\"font-style: italic;\">v3.0.0</span>. Please load the profile manually before loading modules from aiidalab-widgets-base by adding the following code at the beginning cell of the notebook:</p>\n",
       "    <pre style=\"background-color: #f0f0f0; padding: 10px; border: 1px solid #ccc; font-family: 'Courier New', monospace;\">\n",
       "from aiida import load_profile\n",
       "load_profile();</pre>\n",
       "</div>\n"
      ],
      "text/plain": [
       "<IPython.core.display.HTML object>"
      ]
     },
     "metadata": {},
     "output_type": "display_data"
    },
    {
     "data": {
      "application/javascript": [
       "\n",
       "                var style = document.createElement('style');\n",
       "                style.type = 'text/css';\n",
       "                style.innerHTML = ``;\n",
       "                document.head.appendChild(style);\n",
       "            "
      ],
      "text/plain": [
       "<IPython.core.display.Javascript object>"
      ]
     },
     "metadata": {},
     "output_type": "display_data"
    }
   ],
   "source": [
    "# Fix pybel import path\n",
    "try:\n",
    "    import sys\n",
    "\n",
    "    sys.modules[\"pybel\"] = __import__(\"openbabel\", globals(), locals(), [\"pybel\"]).pybel\n",
    "except Exception:\n",
    "    pass\n",
    "\n",
    "import ipywidgets as ipw\n",
    "\n",
    "from importlib_resources import files\n",
    "from IPython.display import display\n",
    "from jinja2 import Environment\n",
    "\n",
    "from aiidalab_qe_vibroscopy.utils.euphonic.detached_app import static\n",
    "from aiidalab_qe_vibroscopy.app.widgets.euphonicwidget import EuphonicWidget"
   ]
  },
  {
   "cell_type": "code",
   "execution_count": 3,
   "id": "586bd730",
   "metadata": {},
   "outputs": [
    {
     "data": {
      "application/vnd.jupyter.widget-view+json": {
       "model_id": "a92faf36ebfb4e2e93635377806933de",
       "version_major": 2,
       "version_minor": 0
      },
      "text/plain": [
       "Output()"
      ]
     },
     "metadata": {},
     "output_type": "display_data"
    }
   ],
   "source": [
    "env = Environment()\n",
    "\n",
    "template = files(static).joinpath(\"welcome.jinja\").read_text()\n",
    "style = files(static).joinpath(\"style.css\").read_text()\n",
    "welcome_message = ipw.HTML(env.from_string(template).render(style=style))\n",
    "footer = ipw.HTML(\n",
    "    '<p style=\"text-align:right;\">Copyright (c) 2024 Miki Bonacci (PSI), miki.bonacci@psi.ch; &#8195Version: 0.1.1</p>'\n",
    ")\n",
    "\n",
    "from aiidalab_qe_vibroscopy.app.widgets.euphonicmodel import EuphonicResultsModel\n",
    "\n",
    "widget = EuphonicWidget(\n",
    "    model=EuphonicResultsModel(detached_app=True), detached_app=True\n",
    ")\n",
    "widget.render()\n",
    "\n",
    "output = ipw.Output()\n",
    "\n",
    "with output:\n",
    "    display(welcome_message, widget, footer)\n",
    "\n",
    "\n",
    "display(output)"
   ]
  }
 ],
 "metadata": {
  "kernelspec": {
   "display_name": "Python 3 (ipykernel)",
   "language": "python",
   "name": "python3"
  },
  "language_info": {
   "codemirror_mode": {
    "name": "ipython",
    "version": 3
   },
   "file_extension": ".py",
   "mimetype": "text/x-python",
   "name": "python",
   "nbconvert_exporter": "python",
   "pygments_lexer": "ipython3",
   "version": "3.9.13"
  }
 },
 "nbformat": 4,
 "nbformat_minor": 5
}
